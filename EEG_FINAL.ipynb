{
 "cells": [
  {
   "attachments": {},
   "cell_type": "markdown",
   "metadata": {},
   "source": [
    "# IMPORTS"
   ]
  },
  {
   "cell_type": "code",
   "execution_count": null,
   "metadata": {},
   "outputs": [],
   "source": [
    "import numpy, scipy, pandas as pd\n",
    "from scipy.io.arff import loadarff\n",
    "import matplotlib.pyplot as plt\n",
    "import numpy as np\n",
    "\n",
    "# from sklearn.preprocessing import StandardScaler\n",
    "# from sklearn.decomposition import FastICA\n",
    "from sklearn.decomposition import PCA\n",
    "from sklearn.ensemble import RandomForestClassifier\n",
    "from sklearn.ensemble import AdaBoostClassifier\n",
    "from sklearn.svm import SVC\n",
    "from sklearn.metrics import accuracy_score\n",
    "\n",
    "\n",
    "from IPython.display import clear_output\n"
   ]
  },
  {
   "attachments": {},
   "cell_type": "markdown",
   "metadata": {},
   "source": [
    "# LOADING DATA"
   ]
  },
  {
   "cell_type": "code",
   "execution_count": null,
   "metadata": {},
   "outputs": [],
   "source": [
    "motor_train_f = \"DataSets/MotorImagery/MotorImagery_TRAIN.arff\"\n",
    "motor_test_f = \"DataSets/MotorImagery/MotorImagery_TEST.arff\""
   ]
  },
  {
   "cell_type": "code",
   "execution_count": null,
   "metadata": {},
   "outputs": [],
   "source": [
    "# IT TAKES AROUND 1-2 MINUTES TO LOAD THE DATASET\n",
    "\n",
    "motor_train, motor_train_meta = loadarff(motor_train_f)\n",
    "df = pd.DataFrame(motor_train)\n",
    "\n",
    "dataa = df.relationalAtt\n",
    "tagg = df.motion\n",
    "\n",
    "tagg = tagg.replace(b'finger', 1)\n",
    "tagg = tagg.replace(b'tongue', 0)"
   ]
  },
  {
   "cell_type": "code",
   "execution_count": null,
   "metadata": {},
   "outputs": [],
   "source": [
    "moto_test, moto_test_meta = loadarff(motor_test_f)\n",
    "df_test = pd.DataFrame(moto_test)\n",
    "\n",
    "dataa_test = df_test.relationalAtt\n",
    "tagg_test = df_test.motion\n",
    "\n",
    "tagg_test = tagg_test.replace(b'finger', 1)\n",
    "tagg_test = tagg_test.replace(b'tongue', 0)"
   ]
  },
  {
   "cell_type": "code",
   "execution_count": null,
   "metadata": {},
   "outputs": [],
   "source": [
    "x_train = dataa\n",
    "y_train = tagg\n",
    "\n",
    "x_test = dataa_test\n",
    "y_test = tagg_test"
   ]
  },
  {
   "attachments": {},
   "cell_type": "markdown",
   "metadata": {},
   "source": [
    "# PRE PROCESSING"
   ]
  },
  {
   "cell_type": "code",
   "execution_count": null,
   "metadata": {},
   "outputs": [],
   "source": [
    "mega_dataa = []"
   ]
  },
  {
   "cell_type": "code",
   "execution_count": null,
   "metadata": {},
   "outputs": [],
   "source": [
    "# print(len(mega_dataa))\n",
    "def make_obs_onechannel_time(dataa, n, tot_obss): # SHOULD RETURN 278 X 3000 MATRIX\n",
    "    _mega_dataa = []\n",
    "    for i in range(tot_obss):\n",
    "\n",
    "        obs = []\n",
    "        for ch in range(1):\n",
    "            ch = n\n",
    "            chh = []\n",
    "            for j in range(3000):\n",
    "                chh.append(dataa[i][f'att{j}'][ch])\n",
    "                \n",
    "            obs = chh\n",
    "        _mega_dataa.append(obs)\n",
    "\n",
    "    return _mega_dataa "
   ]
  },
  {
   "cell_type": "code",
   "execution_count": null,
   "metadata": {},
   "outputs": [],
   "source": [
    "def flat(lists):\n",
    "    return [item for sublist in lists for item in sublist]"
   ]
  },
  {
   "cell_type": "code",
   "execution_count": null,
   "metadata": {},
   "outputs": [],
   "source": [
    "def squeeze(obs_time_matrix): # SHOULD RETURN 1 X 278 MATRIX\n",
    "    # obs_time_matrix is 278 x 200 matrix \n",
    "    squeezed = []\n",
    "    for obs in obs_time_matrix:\n",
    "        squeezed.append(np.average(np.array(obs))) # AVERAGING THE TIME\n",
    "    return np.array(squeezed) # WILL RETURN 1 X 278 MATRIX\n"
   ]
  },
  {
   "cell_type": "code",
   "execution_count": null,
   "metadata": {},
   "outputs": [],
   "source": [
    "dataa.shape, dataa[0].shape, dataa[0][0].shape, dataa_test.shape, dataa_test[0].shape, dataa_test[0][0].shape"
   ]
  },
  {
   "cell_type": "code",
   "execution_count": null,
   "metadata": {},
   "outputs": [],
   "source": [
    "# THIS CELL MAY TAKE 7-8 MINS OR MORE\n",
    "\n",
    "mega_dataa_ch_wis = []\n",
    "mega_dataa_ch_wis_test = []\n",
    "# ica = FastICA(n_components=200)\n",
    "pca = PCA(n_components=50)\n",
    "\n",
    "for i in range(64): # FOR EACH CHANNEL WE ARE FINDING 50 TIME COMPONENTs\n",
    "    clear_output(wait=True)\n",
    "    print(f\"reading {i}\")\n",
    "\n",
    "    # CONVERTING 278 X 3000 -> 278 X 50 MATRIX\n",
    "    X_pca = pca.fit_transform(make_obs_onechannel_time(dataa, i, 278)) # CHOOSE 50 BEST COLUMN, SO MATRIX = 278 X 50\n",
    "\n",
    "    X_pca_test = pca.transform(make_obs_onechannel_time(dataa_test, i, 100)) # CHOOSE 10 BEST COLUMN, SO MATRIX = 278 X 10\n",
    "\n",
    "    mega_dataa_ch_wis.append(X_pca)\n",
    "    mega_dataa_ch_wis_test.append(X_pca_test)\n",
    "\n",
    "print(len(mega_dataa_ch_wis), len(mega_dataa_ch_wis[0])) # SHOULD BE 64 X 278"
   ]
  },
  {
   "cell_type": "code",
   "execution_count": null,
   "metadata": {},
   "outputs": [],
   "source": [
    "print(len(mega_dataa_ch_wis), len(mega_dataa_ch_wis[0]), len(mega_dataa_ch_wis[0][0]))"
   ]
  },
  {
   "cell_type": "code",
   "execution_count": null,
   "metadata": {},
   "outputs": [],
   "source": [
    "mn = []\n",
    "for i in range(278): # LENGTH OF TRAIN\n",
    "    mn_l = []\n",
    "    for j in range(64): # LENGTH O CHANNELS\n",
    "        for k in range(50): # SIZE USED IN PCA\n",
    "            mn_l.append(mega_dataa_ch_wis[j][i][k])\n",
    "    mn.append(mn_l)\n",
    "print(len(mn), len(mn[0]))"
   ]
  },
  {
   "cell_type": "code",
   "execution_count": null,
   "metadata": {},
   "outputs": [],
   "source": [
    "mn_test = []\n",
    "for i in range(100): # LENGTH OF TEST\n",
    "    mn_l = []\n",
    "    for j in range(64): # LENGTH OF CHANNELS\n",
    "        for k in range(50): # SIZE USED IN PCA\n",
    "            mn_l.append(mega_dataa_ch_wis_test[j][i][k])\n",
    "    mn_test.append(mn_l)\n",
    "print(len(mn_test), len(mn_test[0]))"
   ]
  },
  {
   "cell_type": "code",
   "execution_count": null,
   "metadata": {},
   "outputs": [],
   "source": [
    "x_train = mn\n",
    "x_test = mn_test\n"
   ]
  },
  {
   "attachments": {},
   "cell_type": "markdown",
   "metadata": {},
   "source": [
    "# CHECKING CLASSIFIERS"
   ]
  },
  {
   "attachments": {},
   "cell_type": "markdown",
   "metadata": {},
   "source": [
    "### APPLYING RANDOM FOREST CLASSIFIER"
   ]
  },
  {
   "cell_type": "code",
   "execution_count": null,
   "metadata": {},
   "outputs": [],
   "source": [
    "pca = PCA(n_components=20)\n",
    "\n",
    "X_train_pca = pca.fit_transform(mn) # Train a random forest classifier on the transformed data\n",
    "\n",
    "rfc = RandomForestClassifier(max_depth=10, n_estimators=200)\n",
    "\n",
    "\n",
    "rfc.fit(mn, y_train) # Transform the test data using the fitted PCA object\n",
    "\n",
    "X_test_pca = pca.transform(mn_test) # Make predictions on the test set\n",
    "\n",
    "y_pred = rfc.predict(mn_test) # Compute the accuracy of the model\n",
    "\n",
    "\n",
    "rfc_accuracy = accuracy_score(y_test, y_pred)\n",
    "\n",
    "print(f'Accuracy: {rfc_accuracy*100:0.3f}')\n",
    "\n",
    "# MAX ACCURACY OBSERVED WAS 65, AVERAGE WAS AROUND 58-61"
   ]
  },
  {
   "attachments": {},
   "cell_type": "markdown",
   "metadata": {},
   "source": [
    "### APPLYING ADA BOOST CLASSIFIER"
   ]
  },
  {
   "cell_type": "code",
   "execution_count": null,
   "metadata": {},
   "outputs": [],
   "source": [
    "ada_c = AdaBoostClassifier(n_estimators=100, learning_rate=0.5, random_state=0)\n",
    "ada_model = ada_c.fit(mn, y_train)\n",
    "y_pred = ada_model.predict(mn_test)\n",
    "\n",
    "ada_accuracy = accuracy_score(y_test, y_pred)\n",
    "\n",
    "print(f'Accuracy: {ada_accuracy*100}')\n"
   ]
  },
  {
   "attachments": {},
   "cell_type": "markdown",
   "metadata": {},
   "source": [
    "### APPLYING SVC"
   ]
  },
  {
   "cell_type": "code",
   "execution_count": null,
   "metadata": {},
   "outputs": [],
   "source": [
    "svc_model = SVC(C=.1, kernel='poly', gamma=1)\n",
    "svc_model.fit(mn, y_train)\n",
    " \n",
    "prediction = svc_model.predict(mn_test)\n",
    "\n",
    "svc_score_ = svc_model.score(mn_test, y_test)\n",
    "# print(svc_model.score(x_train, y_train))\n",
    "print(f\"Accuracy : {svc_score_*100}\")"
   ]
  },
  {
   "attachments": {},
   "cell_type": "markdown",
   "metadata": {},
   "source": [
    "### APPLYING ADA-BOOST WITH SVC AS BASE ESTIMATOR"
   ]
  },
  {
   "cell_type": "code",
   "execution_count": null,
   "metadata": {},
   "outputs": [],
   "source": [
    "# base_estimator = MLPClassifier(hidden_layer_sizes=(5,), max_iter=1000, random_state=0)\n",
    "base_estimator = SVC(probability=True, kernel='poly')\n",
    "ada_c = AdaBoostClassifier(estimator=base_estimator, n_estimators=100, random_state=3, learning_rate=0.5)\n",
    "\n",
    "# clf = AdaBoostClassifier(base_estimator=base_estimator, n_estimators=100, random_state=0)\n",
    "\n",
    "# clf.fit(mn, y_train)\n",
    "\n",
    "# print(clf.predict(mn_test))\n",
    "\n",
    "ada_model = ada_c.fit(mn, y_train)\n",
    "y_pred = ada_model.predict(mn_test)\n",
    "\n",
    "ada2_accuracy = accuracy_score(y_test, y_pred)\n",
    "\n",
    "print(f'Accuracy: {ada2_accuracy*100}')"
   ]
  },
  {
   "cell_type": "code",
   "execution_count": null,
   "metadata": {},
   "outputs": [],
   "source": []
  },
  {
   "cell_type": "code",
   "execution_count": null,
   "metadata": {},
   "outputs": [],
   "source": [
    "scores = [rfc_accuracy, ada_accuracy,svc_score_, ada2_accuracy ]\n",
    "strr = \"rfc_accuracy, ada_accuracy,svc_score_, ada2_accuracy \"\n",
    "x_ax = [i for i in strr.split(\",\")]\n",
    "x = [i for i in range(len(x_ax))]\n",
    "\n",
    "scores = np.array(scores)*100\n",
    "plt.figure(figsize=(10, 10))\n",
    "# plt.ylim([-1, 100])\n",
    "plt.xticks(x, x_ax)\n",
    "plt.plot(x, scores)\n",
    "plt.scatter(x, scores)\n",
    "for i, txt in enumerate(x_ax):\n",
    "    plt.annotate(txt, (x[i]-0.2 ,scores[i]+0.1))\n",
    "plt.grid()"
   ]
  },
  {
   "cell_type": "code",
   "execution_count": null,
   "metadata": {},
   "outputs": [],
   "source": []
  }
 ],
 "metadata": {
  "kernelspec": {
   "display_name": "GlobalEnvironment",
   "language": "python",
   "name": "python3"
  },
  "language_info": {
   "codemirror_mode": {
    "name": "ipython",
    "version": 3
   },
   "file_extension": ".py",
   "mimetype": "text/x-python",
   "name": "python",
   "nbconvert_exporter": "python",
   "pygments_lexer": "ipython3",
   "version": "3.10.6"
  },
  "orig_nbformat": 4,
  "vscode": {
   "interpreter": {
    "hash": "37e1fb1bec1a71cc872f04cbae7efa28b150da833be6d20ef6d7d455e70be8c5"
   }
  }
 },
 "nbformat": 4,
 "nbformat_minor": 2
}
